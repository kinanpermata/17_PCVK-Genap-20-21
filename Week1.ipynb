{
  "nbformat": 4,
  "nbformat_minor": 0,
  "metadata": {
    "colab": {
      "name": "Week1.ipynb",
      "provenance": [],
      "authorship_tag": "ABX9TyOD0FhTwcyx6yDaQFEIgcRx",
      "include_colab_link": true
    },
    "kernelspec": {
      "name": "python3",
      "display_name": "Python 3"
    }
  },
  "cells": [
    {
      "cell_type": "markdown",
      "metadata": {
        "id": "view-in-github",
        "colab_type": "text"
      },
      "source": [
        "<a href=\"https://colab.research.google.com/github/kinanpermata/17_PCVK-Genap-20-21/blob/main/Week1.ipynb\" target=\"_parent\"><img src=\"https://colab.research.google.com/assets/colab-badge.svg\" alt=\"Open In Colab\"/></a>"
      ]
    },
    {
      "cell_type": "code",
      "metadata": {
        "id": "Wshn6lpD690U"
      },
      "source": [
        "import numpy as np\r\n",
        "import pandas as pd\r\n",
        "import cv2 as cv\r\n",
        "from google.colab.patches import cv2_imshow #for image display\r\n",
        "from skimage import io\r\n",
        "from skimage import transform\r\n",
        "from PIL import Image\r\n",
        "import matplotlib.pylab as plt"
      ],
      "execution_count": null,
      "outputs": []
    },
    {
      "cell_type": "code",
      "metadata": {
        "id": "Jm-LkHffJeYI"
      },
      "source": [
        "#Membuat list untuk menyimpan url dari beberapa image\r\n",
        "urls = [\"https://iiif.lib.ncsu.edu/iiif/0052574/full/800,/0/default.jpg\",\r\n",
        "        \"https://iiif.lib.ncsu.edu/iiif/0016007/full/800,/0/default.jpg\",\r\n",
        "        \"https://placekitten.com/800/571\"]\r\n",
        "#Baca dan tampilkan image\r\n",
        "#Loop pada tiap url image, beberapa image dapat disimpan pada list\r\n",
        "for url in urls:\r\n",
        "  image = io.imread(url)                          #Read image\r\n",
        "  image = cv.resize(image, (0,0), fx=0.5, fy=0.5) #Resize image to half size\r\n",
        "  image_2 = cv.hconcat(image, cv.COLOR_BGR2RGB)   #Convert color to RGB\r\n",
        "  final_frame = cv.hconcat((image, image_2))      #Concatenate image\r\n",
        "  cv2_imshow(final_frame)                         #Show image\r\n",
        "  print('\\n')"
      ],
      "execution_count": null,
      "outputs": []
    }
  ]
}