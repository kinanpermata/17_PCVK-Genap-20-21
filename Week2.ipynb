{
  "nbformat": 4,
  "nbformat_minor": 0,
  "metadata": {
    "colab": {
      "name": "Week2.ipynb",
      "provenance": [],
      "authorship_tag": "ABX9TyP9zqkatsueUuEzg/rqJXRb",
      "include_colab_link": true
    },
    "kernelspec": {
      "name": "python3",
      "display_name": "Python 3"
    }
  },
  "cells": [
    {
      "cell_type": "markdown",
      "metadata": {
        "id": "view-in-github",
        "colab_type": "text"
      },
      "source": [
        "<a href=\"https://colab.research.google.com/github/kinanpermata/17_PCVK-Genap-20-21/blob/main/Week2.ipynb\" target=\"_parent\"><img src=\"https://colab.research.google.com/assets/colab-badge.svg\" alt=\"Open In Colab\"/></a>"
      ]
    },
    {
      "cell_type": "code",
      "metadata": {
        "id": "S1y_OeOp6bX7"
      },
      "source": [
        "from google.collab import drive\r\n",
        "\r\n",
        "# Accessing my Google Drive\r\n",
        "drive.mount('/content/drive')\r\n",
        "\r\n",
        "Go to this URL in a browser: https://drive.google.com/drive/u/0/folders/1ygpCLfqJ6QqDtYWb527C8j7g-N6RUrfk\r\n",
        "\r\n",
        "Enter your authorization code:\r\n"
      ],
      "execution_count": null,
      "outputs": []
    }
  ]
}