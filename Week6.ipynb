{
  "nbformat": 4,
  "nbformat_minor": 0,
  "metadata": {
    "colab": {
      "name": "Week6.ipynb",
      "provenance": [],
      "collapsed_sections": [],
      "authorship_tag": "ABX9TyPgS83JhmyE1HuOZkWzDlyr",
      "include_colab_link": true
    },
    "kernelspec": {
      "name": "python3",
      "display_name": "Python 3"
    }
  },
  "cells": [
    {
      "cell_type": "markdown",
      "metadata": {
        "id": "view-in-github",
        "colab_type": "text"
      },
      "source": [
        "<a href=\"https://colab.research.google.com/github/kinanpermata/PCVK-Genap-20-21/blob/main/Week6.ipynb\" target=\"_parent\"><img src=\"https://colab.research.google.com/assets/colab-badge.svg\" alt=\"Open In Colab\"/></a>"
      ]
    },
    {
      "cell_type": "code",
      "metadata": {
        "colab": {
          "base_uri": "https://localhost:8080/"
        },
        "id": "YcAbqcXGBR8u",
        "outputId": "dd5b0bbb-90e1-4cb4-e443-a17b98fa4018"
      },
      "source": [
        "from google.colab import drive\r\n",
        "\r\n",
        "drive.mount('/content/drive')"
      ],
      "execution_count": 1,
      "outputs": [
        {
          "output_type": "stream",
          "text": [
            "Mounted at /content/drive\n"
          ],
          "name": "stdout"
        }
      ]
    },
    {
      "cell_type": "code",
      "metadata": {
        "id": "myn0lbMwU4K5"
      },
      "source": [
        "import cv2 as cv\r\n",
        "from google.colab.patches import cv2_imshow\r\n",
        "from skimage import io\r\n",
        "import matplotlib.pyplot as plt\r\n",
        "import numpy as np\r\n",
        "import math\r\n",
        "import os\r\n",
        "import glob"
      ],
      "execution_count": 2,
      "outputs": []
    },
    {
      "cell_type": "code",
      "metadata": {
        "colab": {
          "base_uri": "https://localhost:8080/",
          "height": 388
        },
        "id": "Knd4Q4C8aLWM",
        "outputId": "612634c4-9009-4a78-d4b8-c3b99205483f"
      },
      "source": [
        "# No 3\r\n",
        "img = cv.imread('/content/drive/MyDrive/PVCK/lena.jpg')\r\n",
        "height, width, depth = np.shape(img)\r\n",
        "names = np.arange(256)\r\n",
        "\r\n",
        "blue = [0]*256\r\n",
        "green = [0]*256\r\n",
        "red = [0]*256\r\n",
        "\r\n",
        "for y in range(0,height):\r\n",
        "  for x in range(0,width):\r\n",
        "    blue[img[y][x][0]] += 1\r\n",
        "    green[img[y][x][1]] += 1\r\n",
        "    red[img[y][x][2]] += 1\r\n",
        "\r\n",
        "names = np.arange(256)\r\n",
        "fig, axs = plt.subplots(1, 3, figsize=[20,5], sharex=True, sharey=True)\r\n",
        "fig.suptitle('Histogram RGB plot')\r\n",
        "fig.text(0.05, 0.5, 'Jumlah Kemunculan', va='center', rotation='vertical')\r\n",
        "fig.text(0.5, 0.04, 'Intensitas Warna', ha='center')\r\n",
        "axs[0].bar(names, red, color='red')\r\n",
        "axs[1].bar(names, green, color='green')\r\n",
        "axs[2].bar(names, blue, color='blue')"
      ],
      "execution_count": 4,
      "outputs": [
        {
          "output_type": "execute_result",
          "data": {
            "text/plain": [
              "<BarContainer object of 256 artists>"
            ]
          },
          "metadata": {
            "tags": []
          },
          "execution_count": 4
        },
        {
          "output_type": "display_data",
          "data": {
            "image/png": "[encoded data removed]",
            "text/plain": [
              "<Figure size 1440x360 with 3 Axes>"
            ]
          },
          "metadata": {
            "tags": [],
            "needs_background": "light"
          }
        }
      ]
    },
    {
      "cell_type": "code",
      "metadata": {
        "id": "lkIpOQ6lbq2Z"
      },
      "source": [
        "# No 4\r\n"
      ],
      "execution_count": null,
      "outputs": []
    }
  ]
}