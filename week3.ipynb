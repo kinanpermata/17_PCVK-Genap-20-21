{
  "nbformat": 4,
  "nbformat_minor": 0,
  "metadata": {
    "colab": {
      "name": "week3.ipynb",
      "provenance": [],
      "authorship_tag": "ABX9TyNyhRsTuQhA6VP9Mko1DTaA",
      "include_colab_link": true
    },
    "kernelspec": {
      "name": "python3",
      "display_name": "Python 3"
    }
  },
  "cells": [
    {
      "cell_type": "markdown",
      "metadata": {
        "id": "view-in-github",
        "colab_type": "text"
      },
      "source": [
        "<a href=\"https://colab.research.google.com/github/kinanpermata/PCVK-Genap-20-21/blob/main/week3.ipynb\" target=\"_parent\"><img src=\"https://colab.research.google.com/assets/colab-badge.svg\" alt=\"Open In Colab\"/></a>"
      ]
    },
    {
      "cell_type": "code",
      "metadata": {
        "id": "EjdSnJC6RYst",
        "colab": {
          "base_uri": "https://localhost:8080/"
        },
        "outputId": "24401a4d-26fd-435f-af8b-bc077078cdbb"
      },
      "source": [
        "from google.colab import drive\r\n",
        "drive.mount('/content/drive')\r\n"
      ],
      "execution_count": 1,
      "outputs": [
        {
          "output_type": "stream",
          "text": [
            "Mounted at /content/drive\n"
          ],
          "name": "stdout"
        }
      ]
    },
    {
      "cell_type": "code",
      "metadata": {
        "id": "isPdF_2hf53a"
      },
      "source": [
        "print('Mengubah tingkat kecerahan citra')\r\n",
        "print('--------------------------------')\r\n",
        "try:\r\n",
        "  brightness = int(input('Masukkan nilai kecerahan: '))\r\n",
        "except ValueError:\r\n",
        "  print('Error, not a number')\r\n",
        "\r\n",
        "original = cv.imread('/content/drive/MyDrive/PVCK/female.tiff')\r\n",
        "brightness_image = np.zeros(original.shape, original.dtype)\r\n",
        "\r\n",
        "#Akses per piksel\r\n",
        "for y in range(original.shape[0]):\r\n",
        "  for x in range(original.shape[1]):\r\n",
        "    for c in range(original.shape[2]):\r\n",
        "      brightness_image[y,x,c] = np.clip(original[y,x,c] + brightness, 0, 255)\r\n",
        "\r\n",
        "#Cara simple tanpa loop\r\n",
        "#brightness_image = cv.convertScaleAbs(original, beta=brightness)\r\n",
        "\r\n",
        "final_frame = cv.hconcat((original,brightness_image))\r\n",
        "cv2_imshow(final_frame)"
      ],
      "execution_count": null,
      "outputs": []
    }
  ]
}